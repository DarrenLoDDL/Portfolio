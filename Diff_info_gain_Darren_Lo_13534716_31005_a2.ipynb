{
  "nbformat": 4,
  "nbformat_minor": 0,
  "metadata": {
    "colab": {
      "name": "Diff_info_gain_Darren_Lo_13534716_31005_a2.ipynb",
      "provenance": [],
      "collapsed_sections": [
        "a3W5LEwMV3QA"
      ]
    },
    "kernelspec": {
      "name": "python3",
      "display_name": "Python 3"
    },
    "language_info": {
      "name": "python"
    }
  },
  "cells": [
    {
      "cell_type": "markdown",
      "metadata": {
        "id": "CzI9G9cxVzpU"
      },
      "source": [
        "#Imports"
      ]
    },
    {
      "cell_type": "code",
      "metadata": {
        "id": "oebjZ6voR8wl"
      },
      "source": [
        "import numpy as np\n",
        "import pandas as pd"
      ],
      "execution_count": null,
      "outputs": []
    },
    {
      "cell_type": "markdown",
      "metadata": {
        "id": "a3W5LEwMV3QA"
      },
      "source": [
        "#Load Data: Iris Dataset\n",
        "\n",
        "Below is the csv of the original dataset as raw text."
      ]
    },
    {
      "cell_type": "code",
      "metadata": {
        "id": "ABFfR_alV4-m"
      },
      "source": [
        "# I told you...\n",
        "\n",
        "raw = \"\"\"sepal_length,sepal_width,petal_length,petal_width,species\n",
        "5.1,3.5,1.4,0.2,Iris-setosa\n",
        "4.9,3,1.4,0.2,Iris-setosa\n",
        "4.7,3.2,1.3,0.2,Iris-setosa\n",
        "4.6,3.1,1.5,0.2,Iris-setosa\n",
        "5,3.6,1.4,0.2,Iris-setosa\n",
        "5.4,3.9,1.7,0.4,Iris-setosa\n",
        "4.6,3.4,1.4,0.3,Iris-setosa\n",
        "5,3.4,1.5,0.2,Iris-setosa\n",
        "4.4,2.9,1.4,0.2,Iris-setosa\n",
        "4.9,3.1,1.5,0.1,Iris-setosa\n",
        "5.4,3.7,1.5,0.2,Iris-setosa\n",
        "4.8,3.4,1.6,0.2,Iris-setosa\n",
        "4.8,3,1.4,0.1,Iris-setosa\n",
        "4.3,3,1.1,0.1,Iris-setosa\n",
        "5.8,4,1.2,0.2,Iris-setosa\n",
        "5.7,4.4,1.5,0.4,Iris-setosa\n",
        "5.4,3.9,1.3,0.4,Iris-setosa\n",
        "5.1,3.5,1.4,0.3,Iris-setosa\n",
        "5.7,3.8,1.7,0.3,Iris-setosa\n",
        "5.1,3.8,1.5,0.3,Iris-setosa\n",
        "5.4,3.4,1.7,0.2,Iris-setosa\n",
        "5.1,3.7,1.5,0.4,Iris-setosa\n",
        "4.6,3.6,1,0.2,Iris-setosa\n",
        "5.1,3.3,1.7,0.5,Iris-setosa\n",
        "4.8,3.4,1.9,0.2,Iris-setosa\n",
        "5,3,1.6,0.2,Iris-setosa\n",
        "5,3.4,1.6,0.4,Iris-setosa\n",
        "5.2,3.5,1.5,0.2,Iris-setosa\n",
        "5.2,3.4,1.4,0.2,Iris-setosa\n",
        "4.7,3.2,1.6,0.2,Iris-setosa\n",
        "4.8,3.1,1.6,0.2,Iris-setosa\n",
        "5.4,3.4,1.5,0.4,Iris-setosa\n",
        "5.2,4.1,1.5,0.1,Iris-setosa\n",
        "5.5,4.2,1.4,0.2,Iris-setosa\n",
        "4.9,3.1,1.5,0.1,Iris-setosa\n",
        "5,3.2,1.2,0.2,Iris-setosa\n",
        "5.5,3.5,1.3,0.2,Iris-setosa\n",
        "4.9,3.1,1.5,0.1,Iris-setosa\n",
        "4.4,3,1.3,0.2,Iris-setosa\n",
        "5.1,3.4,1.5,0.2,Iris-setosa\n",
        "5,3.5,1.3,0.3,Iris-setosa\n",
        "4.5,2.3,1.3,0.3,Iris-setosa\n",
        "4.4,3.2,1.3,0.2,Iris-setosa\n",
        "5,3.5,1.6,0.6,Iris-setosa\n",
        "5.1,3.8,1.9,0.4,Iris-setosa\n",
        "4.8,3,1.4,0.3,Iris-setosa\n",
        "5.1,3.8,1.6,0.2,Iris-setosa\n",
        "4.6,3.2,1.4,0.2,Iris-setosa\n",
        "5.3,3.7,1.5,0.2,Iris-setosa\n",
        "5,3.3,1.4,0.2,Iris-setosa\n",
        "7,3.2,4.7,1.4,Iris-versicolor\n",
        "6.4,3.2,4.5,1.5,Iris-versicolor\n",
        "6.9,3.1,4.9,1.5,Iris-versicolor\n",
        "5.5,2.3,4,1.3,Iris-versicolor\n",
        "6.5,2.8,4.6,1.5,Iris-versicolor\n",
        "5.7,2.8,4.5,1.3,Iris-versicolor\n",
        "6.3,3.3,4.7,1.6,Iris-versicolor\n",
        "4.9,2.4,3.3,1,Iris-versicolor\n",
        "6.6,2.9,4.6,1.3,Iris-versicolor\n",
        "5.2,2.7,3.9,1.4,Iris-versicolor\n",
        "5,2,3.5,1,Iris-versicolor\n",
        "5.9,3,4.2,1.5,Iris-versicolor\n",
        "6,2.2,4,1,Iris-versicolor\n",
        "6.1,2.9,4.7,1.4,Iris-versicolor\n",
        "5.6,2.9,3.6,1.3,Iris-versicolor\n",
        "6.7,3.1,4.4,1.4,Iris-versicolor\n",
        "5.6,3,4.5,1.5,Iris-versicolor\n",
        "5.8,2.7,4.1,1,Iris-versicolor\n",
        "6.2,2.2,4.5,1.5,Iris-versicolor\n",
        "5.6,2.5,3.9,1.1,Iris-versicolor\n",
        "5.9,3.2,4.8,1.8,Iris-versicolor\n",
        "6.1,2.8,4,1.3,Iris-versicolor\n",
        "6.3,2.5,4.9,1.5,Iris-versicolor\n",
        "6.1,2.8,4.7,1.2,Iris-versicolor\n",
        "6.4,2.9,4.3,1.3,Iris-versicolor\n",
        "6.6,3,4.4,1.4,Iris-versicolor\n",
        "6.8,2.8,4.8,1.4,Iris-versicolor\n",
        "6.7,3,5,1.7,Iris-versicolor\n",
        "6,2.9,4.5,1.5,Iris-versicolor\n",
        "5.7,2.6,3.5,1,Iris-versicolor\n",
        "5.5,2.4,3.8,1.1,Iris-versicolor\n",
        "5.5,2.4,3.7,1,Iris-versicolor\n",
        "5.8,2.7,3.9,1.2,Iris-versicolor\n",
        "6,2.7,5.1,1.6,Iris-versicolor\n",
        "5.4,3,4.5,1.5,Iris-versicolor\n",
        "6,3.4,4.5,1.6,Iris-versicolor\n",
        "6.7,3.1,4.7,1.5,Iris-versicolor\n",
        "6.3,2.3,4.4,1.3,Iris-versicolor\n",
        "5.6,3,4.1,1.3,Iris-versicolor\n",
        "5.5,2.5,4,1.3,Iris-versicolor\n",
        "5.5,2.6,4.4,1.2,Iris-versicolor\n",
        "6.1,3,4.6,1.4,Iris-versicolor\n",
        "5.8,2.6,4,1.2,Iris-versicolor\n",
        "5,2.3,3.3,1,Iris-versicolor\n",
        "5.6,2.7,4.2,1.3,Iris-versicolor\n",
        "5.7,3,4.2,1.2,Iris-versicolor\n",
        "5.7,2.9,4.2,1.3,Iris-versicolor\n",
        "6.2,2.9,4.3,1.3,Iris-versicolor\n",
        "5.1,2.5,3,1.1,Iris-versicolor\n",
        "5.7,2.8,4.1,1.3,Iris-versicolor\n",
        "6.3,3.3,6,2.5,Iris-virginica\n",
        "5.8,2.7,5.1,1.9,Iris-virginica\n",
        "7.1,3,5.9,2.1,Iris-virginica\n",
        "6.3,2.9,5.6,1.8,Iris-virginica\n",
        "6.5,3,5.8,2.2,Iris-virginica\n",
        "7.6,3,6.6,2.1,Iris-virginica\n",
        "4.9,2.5,4.5,1.7,Iris-virginica\n",
        "7.3,2.9,6.3,1.8,Iris-virginica\n",
        "6.7,2.5,5.8,1.8,Iris-virginica\n",
        "7.2,3.6,6.1,2.5,Iris-virginica\n",
        "6.5,3.2,5.1,2,Iris-virginica\n",
        "6.4,2.7,5.3,1.9,Iris-virginica\n",
        "6.8,3,5.5,2.1,Iris-virginica\n",
        "5.7,2.5,5,2,Iris-virginica\n",
        "5.8,2.8,5.1,2.4,Iris-virginica\n",
        "6.4,3.2,5.3,2.3,Iris-virginica\n",
        "6.5,3,5.5,1.8,Iris-virginica\n",
        "7.7,3.8,6.7,2.2,Iris-virginica\n",
        "7.7,2.6,6.9,2.3,Iris-virginica\n",
        "6,2.2,5,1.5,Iris-virginica\n",
        "6.9,3.2,5.7,2.3,Iris-virginica\n",
        "5.6,2.8,4.9,2,Iris-virginica\n",
        "7.7,2.8,6.7,2,Iris-virginica\n",
        "6.3,2.7,4.9,1.8,Iris-virginica\n",
        "6.7,3.3,5.7,2.1,Iris-virginica\n",
        "7.2,3.2,6,1.8,Iris-virginica\n",
        "6.2,2.8,4.8,1.8,Iris-virginica\n",
        "6.1,3,4.9,1.8,Iris-virginica\n",
        "6.4,2.8,5.6,2.1,Iris-virginica\n",
        "7.2,3,5.8,1.6,Iris-virginica\n",
        "7.4,2.8,6.1,1.9,Iris-virginica\n",
        "7.9,3.8,6.4,2,Iris-virginica\n",
        "6.4,2.8,5.6,2.2,Iris-virginica\n",
        "6.3,2.8,5.1,1.5,Iris-virginica\n",
        "6.1,2.6,5.6,1.4,Iris-virginica\n",
        "7.7,3,6.1,2.3,Iris-virginica\n",
        "6.3,3.4,5.6,2.4,Iris-virginica\n",
        "6.4,3.1,5.5,1.8,Iris-virginica\n",
        "6,3,4.8,1.8,Iris-virginica\n",
        "6.9,3.1,5.4,2.1,Iris-virginica\n",
        "6.7,3.1,5.6,2.4,Iris-virginica\n",
        "6.9,3.1,5.1,2.3,Iris-virginica\n",
        "5.8,2.7,5.1,1.9,Iris-virginica\n",
        "6.8,3.2,5.9,2.3,Iris-virginica\n",
        "6.7,3.3,5.7,2.5,Iris-virginica\n",
        "6.7,3,5.2,2.3,Iris-virginica\n",
        "6.3,2.5,5,1.9,Iris-virginica\n",
        "6.5,3,5.2,2,Iris-virginica\n",
        "6.2,3.4,5.4,2.3,Iris-virginica\n",
        "5.9,3,5.1,1.8,Iris-virginica\"\"\"\n",
        "\n",
        "with open(\"iris.csv\", \"w\") as f:\n",
        "  f.write(raw)\n",
        "df = pd.read_csv(\"iris.csv\")"
      ],
      "execution_count": null,
      "outputs": []
    },
    {
      "cell_type": "markdown",
      "metadata": {
        "id": "tqwrpOYuV-G8"
      },
      "source": [
        "#Train Test Splits\n",
        "Randmomly split the dataset into a training and testing set. The training set will be used to generate the decision tree, and the testing set will be used to evaluate the tree."
      ]
    },
    {
      "cell_type": "code",
      "metadata": {
        "id": "DD8gPV3BV9hU",
        "colab": {
          "base_uri": "https://localhost:8080/",
          "height": 417
        },
        "outputId": "fb4b3920-9c2d-45f5-d97e-6eb07c5586a1"
      },
      "source": [
        "df\n",
        "train_df = df.sample(frac=0.75,random_state=777) #randomly split original data into test and train\n",
        "test_df = df.drop(train_df.index)\n",
        "\n",
        "train = train_df.values #convert df to np array\n",
        "test = test_df.values\n",
        "\n",
        "train_df"
      ],
      "execution_count": null,
      "outputs": [
        {
          "output_type": "execute_result",
          "data": {
            "text/html": [
              "<div>\n",
              "<style scoped>\n",
              "    .dataframe tbody tr th:only-of-type {\n",
              "        vertical-align: middle;\n",
              "    }\n",
              "\n",
              "    .dataframe tbody tr th {\n",
              "        vertical-align: top;\n",
              "    }\n",
              "\n",
              "    .dataframe thead th {\n",
              "        text-align: right;\n",
              "    }\n",
              "</style>\n",
              "<table border=\"1\" class=\"dataframe\">\n",
              "  <thead>\n",
              "    <tr style=\"text-align: right;\">\n",
              "      <th></th>\n",
              "      <th>sepal_length</th>\n",
              "      <th>sepal_width</th>\n",
              "      <th>petal_length</th>\n",
              "      <th>petal_width</th>\n",
              "      <th>species</th>\n",
              "    </tr>\n",
              "  </thead>\n",
              "  <tbody>\n",
              "    <tr>\n",
              "      <th>117</th>\n",
              "      <td>7.7</td>\n",
              "      <td>3.8</td>\n",
              "      <td>6.7</td>\n",
              "      <td>2.2</td>\n",
              "      <td>Iris-virginica</td>\n",
              "    </tr>\n",
              "    <tr>\n",
              "      <th>12</th>\n",
              "      <td>4.8</td>\n",
              "      <td>3.0</td>\n",
              "      <td>1.4</td>\n",
              "      <td>0.1</td>\n",
              "      <td>Iris-setosa</td>\n",
              "    </tr>\n",
              "    <tr>\n",
              "      <th>102</th>\n",
              "      <td>7.1</td>\n",
              "      <td>3.0</td>\n",
              "      <td>5.9</td>\n",
              "      <td>2.1</td>\n",
              "      <td>Iris-virginica</td>\n",
              "    </tr>\n",
              "    <tr>\n",
              "      <th>113</th>\n",
              "      <td>5.7</td>\n",
              "      <td>2.5</td>\n",
              "      <td>5.0</td>\n",
              "      <td>2.0</td>\n",
              "      <td>Iris-virginica</td>\n",
              "    </tr>\n",
              "    <tr>\n",
              "      <th>63</th>\n",
              "      <td>6.1</td>\n",
              "      <td>2.9</td>\n",
              "      <td>4.7</td>\n",
              "      <td>1.4</td>\n",
              "      <td>Iris-versicolor</td>\n",
              "    </tr>\n",
              "    <tr>\n",
              "      <th>...</th>\n",
              "      <td>...</td>\n",
              "      <td>...</td>\n",
              "      <td>...</td>\n",
              "      <td>...</td>\n",
              "      <td>...</td>\n",
              "    </tr>\n",
              "    <tr>\n",
              "      <th>43</th>\n",
              "      <td>5.0</td>\n",
              "      <td>3.5</td>\n",
              "      <td>1.6</td>\n",
              "      <td>0.6</td>\n",
              "      <td>Iris-setosa</td>\n",
              "    </tr>\n",
              "    <tr>\n",
              "      <th>36</th>\n",
              "      <td>5.5</td>\n",
              "      <td>3.5</td>\n",
              "      <td>1.3</td>\n",
              "      <td>0.2</td>\n",
              "      <td>Iris-setosa</td>\n",
              "    </tr>\n",
              "    <tr>\n",
              "      <th>99</th>\n",
              "      <td>5.7</td>\n",
              "      <td>2.8</td>\n",
              "      <td>4.1</td>\n",
              "      <td>1.3</td>\n",
              "      <td>Iris-versicolor</td>\n",
              "    </tr>\n",
              "    <tr>\n",
              "      <th>16</th>\n",
              "      <td>5.4</td>\n",
              "      <td>3.9</td>\n",
              "      <td>1.3</td>\n",
              "      <td>0.4</td>\n",
              "      <td>Iris-setosa</td>\n",
              "    </tr>\n",
              "    <tr>\n",
              "      <th>2</th>\n",
              "      <td>4.7</td>\n",
              "      <td>3.2</td>\n",
              "      <td>1.3</td>\n",
              "      <td>0.2</td>\n",
              "      <td>Iris-setosa</td>\n",
              "    </tr>\n",
              "  </tbody>\n",
              "</table>\n",
              "<p>112 rows × 5 columns</p>\n",
              "</div>"
            ],
            "text/plain": [
              "     sepal_length  sepal_width  petal_length  petal_width          species\n",
              "117           7.7          3.8           6.7          2.2   Iris-virginica\n",
              "12            4.8          3.0           1.4          0.1      Iris-setosa\n",
              "102           7.1          3.0           5.9          2.1   Iris-virginica\n",
              "113           5.7          2.5           5.0          2.0   Iris-virginica\n",
              "63            6.1          2.9           4.7          1.4  Iris-versicolor\n",
              "..            ...          ...           ...          ...              ...\n",
              "43            5.0          3.5           1.6          0.6      Iris-setosa\n",
              "36            5.5          3.5           1.3          0.2      Iris-setosa\n",
              "99            5.7          2.8           4.1          1.3  Iris-versicolor\n",
              "16            5.4          3.9           1.3          0.4      Iris-setosa\n",
              "2             4.7          3.2           1.3          0.2      Iris-setosa\n",
              "\n",
              "[112 rows x 5 columns]"
            ]
          },
          "metadata": {},
          "execution_count": 3
        }
      ]
    },
    {
      "cell_type": "markdown",
      "metadata": {
        "id": "G5a1cfksWbKl"
      },
      "source": [
        "#Decision Tree Building"
      ]
    },
    {
      "cell_type": "code",
      "metadata": {
        "id": "AD_nCAIVWd5j"
      },
      "source": [
        "class TreeID3:\n",
        "  def __init__(self):\n",
        "    self.root = None\n",
        "\n",
        "  def fit(self, samples, max_depth):\n",
        "    self.root = TreeNode(samples, max_depth)\n",
        "    self.root.make()\n",
        "\n",
        "class TreeNode:\n",
        "    \"\"\"\n",
        "    A recursively defined data structure to store a tree.\n",
        "    Each node can contain other nodes as its children\n",
        "    \"\"\"\n",
        "    def __init__(self, samples, max_depth, counter = 0):\n",
        "      self.samples = samples # the samples that will get split, and split over again\n",
        "      self.max_depth = max_depth #maximum depth of tree, in cases where the data is hard to dichotomise, when we reach the max depth, we default to the first if statement of make()\n",
        "      self.counter = counter #counts depth progress\n",
        "      self.decision = None #the classification of the particular node. only end nodes have decisions.\n",
        "    \n",
        "    def make(self):\n",
        "      self.counter += 1\n",
        "      samples = self.samples\n",
        "      classes, counts = np.unique(samples[:,4], return_counts = True)\n",
        "\n",
        "      if self.counter == self.max_depth: # case for reaching max depth, get class with the highest count for this dataset\n",
        "        self.decision = predict(samples)\n",
        "        return self.decision\n",
        "      elif len(counts) < 2:\n",
        "        self.decision = predict(samples) # the class is obvious if theres only one class in the sample\n",
        "        return self.decision\n",
        "      else:\n",
        "        potential_splits = get_potential_splits(samples) #necessary for splitting continuous data\n",
        "        split_attribute, split_value = best_split(samples, potential_splits) # these values have the lowest overall entropy, a new sample is recursively parsed, meaning the values will change each call\n",
        "        below, above = split_data(samples, split_attribute, split_value) # If the below data set is refined ebough, it wll default to the 2nd if statement. The above data will need to be dichotomised further\n",
        "        question = \"{} <= {}\".format(split_attribute, split_value)#print out the decision\n",
        "        self.children = {question: []}\n",
        "        yes_answer = TreeNode(below, self.max_depth, self.counter).make() #creating tree nodes to add to children of current node, needed for classifying new data\n",
        "        no_answer = TreeNode(above, self.max_depth, self.counter).make()\n",
        "        self.children[question].append(yes_answer) #append these questions to children, these are added recursively\n",
        "        self.children[question].append(no_answer) #this no statement will have nested dictionaries.\n",
        "        return self.children\n",
        "\n",
        "    def classify(self, test_row, decision_dictionary):\n",
        "      decisionTree = decision_dictionary\n",
        "      question = list(decisionTree.keys())[0]\n",
        "      attribute, operator, value = question.split() #default, splits by space\n",
        "      if test_row[int(attribute)] <= float(value):\n",
        "        answer = decisionTree[question][0] # the decision tree returns a nested dictionary that technically only has one key. This key has 2 values, a class or another key. \n",
        "      #if the row doesnt pass the test, then it is tested against the second value\n",
        "      else:\n",
        "        answer = decisionTree[question][1]\n",
        "      \n",
        "      if not isinstance(answer, dict):\n",
        "        return answer # if the answer is not an instance of dictionary, i.e. its a class, then return it\n",
        "      else:\n",
        "        sub_tree = answer #else, query the test data against this dictionary\n",
        "        return self.classify(test_row, sub_tree)\n",
        "      \n",
        "    def evaluate(self, test_set, decision_dictionary):\n",
        "      correct = test_set[:, -1]\n",
        "      predictions = []\n",
        "      total = len(correct)\n",
        "      score = 0\n",
        "      for i in range(total):\n",
        "        if self.classify(test_set[i], decision_dictionary) == correct[i]: #if prediction matches the prediction at a particular row, add 1 to score\n",
        "          score = score + 1\n",
        "      accuracy = score/total\n",
        "      return \"Accuracy = \" + str(accuracy)\n",
        "\n",
        "    def evaluate_with_table(self, test_set, decision_dictionary):\n",
        "      correct = test_set[:, -1]\n",
        "      predictions = []\n",
        "      total = len(correct)\n",
        "      for i in range(total):\n",
        "        prediction = self.classify(test_set[i], decision_dictionary)\n",
        "        if prediction == correct[i]: #datasets are not shuffled, so matching indexes contain the same data entries.\n",
        "          oh = \"O\"\n",
        "          predictions.append(oh) #correcty prediction\n",
        "        else:\n",
        "          ex = \"X, \" + prediction# wrong prediction\n",
        "          predictions.append(ex)  \n",
        "      test_set = np.insert(test_set, 5, predictions,  axis = 1) #return a datafram with a new columns, called predicted_species\n",
        "      df = pd.DataFrame(data=test_set, columns=[\"sepal_length(0)\",\t\"sepal_width(1)\",\t\"petal_length(2)\",\t\"petal_width(3)\",\t\"species\", \"predicted_species\"])\n",
        "      return df\n"
      ],
      "execution_count": null,
      "outputs": []
    },
    {
      "cell_type": "markdown",
      "metadata": {
        "id": "GSeNjLKBWq5S"
      },
      "source": [
        "#Predict Class"
      ]
    },
    {
      "cell_type": "code",
      "metadata": {
        "id": "bA_yRRnYWtZv"
      },
      "source": [
        "def predict(samples): #used for predicting a class when further dichotmisation is not possible (typically when the tree reaches it max depth)\n",
        "      labels = samples[:, -1] #assuming that the class labels are always the last column\n",
        "      classes, counts = np.unique(labels, return_counts=True)\n",
        "      index = counts.argmax() # class with highest count is the predicted class\n",
        "      classification = classes[index]\n",
        "      return classification"
      ],
      "execution_count": null,
      "outputs": []
    },
    {
      "cell_type": "markdown",
      "metadata": {
        "id": "VeO0b7jeWspp"
      },
      "source": [
        "#Entropy"
      ]
    },
    {
      "cell_type": "markdown",
      "metadata": {
        "id": "-iF0fO3z905f"
      },
      "source": [
        "Note, for attributes with continuous values, entropy calculations are performed on the label column"
      ]
    },
    {
      "cell_type": "code",
      "metadata": {
        "id": "auAyLY2NWsEK"
      },
      "source": [
        "def compute_entropy(y): # y is the sample that is being dichotomised\n",
        "    classes, counts = np.unique(y[:, -1], return_counts=True)\n",
        "    if len(counts) < 2: #  if the sample has only one class, its completely pure so...\n",
        "        return 0\n",
        "    else:\n",
        "      return -((counts/counts.sum()) * np.log2((counts/counts.sum()))).sum() #entropy computation"
      ],
      "execution_count": null,
      "outputs": []
    },
    {
      "cell_type": "markdown",
      "metadata": {
        "id": "V11DDeinWzIA"
      },
      "source": [
        "#Potential Split Values"
      ]
    },
    {
      "cell_type": "code",
      "metadata": {
        "id": "MMSM-3RrWyxl"
      },
      "source": [
        "  def get_potential_splits(samples):\n",
        "    potential_splits = {} # make dictionary of where we may want to split data \n",
        "    n_rows, n_columns = df.shape\n",
        "    for col_index in range(n_columns-1): # generate unique values from every column, to be used to create splits\n",
        "      potential_splits[col_index] = [] #create a dictionary\n",
        "      values = samples[:, col_index] \n",
        "      unique_values = np.unique(values)\n",
        "      unique_values = np.sort(unique_values)\n",
        "      for index in range(len(unique_values)):\n",
        "        if index != 0:\n",
        "          current = unique_values[index] \n",
        "          previous = unique_values[index - 1]\n",
        "          potential_split = (current + previous)/2 # we make a split directly halfway between 2 unique values\n",
        "\n",
        "          potential_splits[col_index].append(potential_split)\n",
        "\n",
        "    return potential_splits\n",
        "\n"
      ],
      "execution_count": null,
      "outputs": []
    },
    {
      "cell_type": "markdown",
      "metadata": {
        "id": "HHe01yy-rmev"
      },
      "source": [
        "#Determine Best Split, Iterative Dichotomisation part."
      ]
    },
    {
      "cell_type": "markdown",
      "metadata": {
        "id": "CWD9bkJOF622"
      },
      "source": [
        "Find best attribute and value"
      ]
    },
    {
      "cell_type": "code",
      "metadata": {
        "id": "StxdyHDAsMUA"
      },
      "source": [
        "def best_split(samples, potential_splits):\n",
        "  overall_entropy = 999\n",
        "  best_attr_split = 0\n",
        "  best_val_split = 0\n",
        "  prev_len_below = 0\n",
        "  for index in potential_splits: # for every key..\n",
        "    for val in potential_splits[index]: #for every value in the key\n",
        "        below, above = split_data(samples, index, val) #test the below and above splits\n",
        "        current_overall_entropy = compute_entropy(below) #As long as the entropy for the \"below\" dataset is \n",
        "                              #as close to 0 as possible, then we will always have the lowest overall entropy\n",
        "        if len(below) > prev_len_below: #we dont want an empty array\n",
        "          if current_overall_entropy - overall_entropy <= 0: #we are looking for smallest entropy\n",
        "            overall_entropy = current_overall_entropy #keeps track of when to change best split attr and val\n",
        "            best_attr_split = index \n",
        "            best_val_split = val \n",
        "\n",
        "  return best_attr_split, best_val_split "
      ],
      "execution_count": null,
      "outputs": []
    },
    {
      "cell_type": "markdown",
      "metadata": {
        "id": "Zh0uIh1D0Hdq"
      },
      "source": [
        "#Actual Splitting"
      ]
    },
    {
      "cell_type": "code",
      "metadata": {
        "id": "YtSGsVMosKnM"
      },
      "source": [
        "  def split_data(samples, split_column, split_value):\n",
        "    split_column_values = samples[:, split_column]  #based on the parameters we give, we get all rows where the values at the column is below or above the threshhold\n",
        "    below = samples[split_column_values <= split_value] #get 2 datasets based on the criterion, the 'above' dataset will have high entropy\n",
        "    above = samples[split_column_values > split_value]\n",
        "    #below statisfies, above doesn't.\n",
        "    return below, above"
      ],
      "execution_count": null,
      "outputs": []
    },
    {
      "cell_type": "markdown",
      "metadata": {
        "id": "MyxvTeywjabf"
      },
      "source": [
        "#Training and Testing\n",
        "\n",
        "Different depths will be used to see differences. This is should all be performed on the training and testing data generated from the same random state.\n",
        "When the trees are generated: \"3 <= 0.8\" means, \"if the attribute in the 4th column (arrays start at 0) <= 0.8, then...\"\n"
      ]
    },
    {
      "cell_type": "code",
      "metadata": {
        "colab": {
          "base_uri": "https://localhost:8080/"
        },
        "id": "o2snoEG2kY8g",
        "outputId": "454d1083-9495-4510-efae-179e71161917"
      },
      "source": [
        "t = TreeID3()\n",
        "t.fit(train, 2)\n",
        "\n",
        "print(\"Train\" + t.root.evaluate(train, t.root.children)) #evaluating performance on training set, obviously it will do very well\n",
        "print(\"Test\" + t.root.evaluate(test, t.root.children)) #evaluating performance on training set, obviously it will do very well\n",
        "print(\" \")\n",
        "print(\"Decision Tree Structure:\")\n",
        "t.root.children"
      ],
      "execution_count": null,
      "outputs": [
        {
          "output_type": "stream",
          "name": "stdout",
          "text": [
            "TrainAccuracy = 0.7142857142857143\n",
            "TestAccuracy = 0.5263157894736842\n",
            " \n",
            "Decision Tree Structure:\n"
          ]
        },
        {
          "output_type": "execute_result",
          "data": {
            "text/plain": [
              "{'3 <= 0.8': ['Iris-setosa', 'Iris-virginica']}"
            ]
          },
          "metadata": {},
          "execution_count": 10
        }
      ]
    },
    {
      "cell_type": "code",
      "metadata": {
        "colab": {
          "base_uri": "https://localhost:8080/"
        },
        "id": "mm4qikv3KyB_",
        "outputId": "0321683b-86be-49e9-af47-c63240a16628"
      },
      "source": [
        "t = TreeID3()\n",
        "t.fit(train, 4)\n",
        "\n",
        "print(\"Train\" + t.root.evaluate(train, t.root.children)) #evaluating performance on training set, obviously it will do very well\n",
        "print(\"Test\" + t.root.evaluate(test, t.root.children)) #evaluating performance on training set, obviously it will do very well\n",
        "print(\" \")\n",
        "print(\"Decision Tree Structure:\")\n",
        "t.root.children"
      ],
      "execution_count": null,
      "outputs": [
        {
          "output_type": "stream",
          "name": "stdout",
          "text": [
            "TrainAccuracy = 0.9107142857142857\n",
            "TestAccuracy = 0.7894736842105263\n",
            " \n",
            "Decision Tree Structure:\n"
          ]
        },
        {
          "output_type": "execute_result",
          "data": {
            "text/plain": [
              "{'3 <= 0.8': ['Iris-setosa',\n",
              "  {'3 <= 1.35': ['Iris-versicolor',\n",
              "    {'2 <= 4.45': ['Iris-versicolor', 'Iris-virginica']}]}]}"
            ]
          },
          "metadata": {},
          "execution_count": 11
        }
      ]
    },
    {
      "cell_type": "code",
      "metadata": {
        "colab": {
          "base_uri": "https://localhost:8080/"
        },
        "id": "vJzQ4S82Ky02",
        "outputId": "ecb197b8-4139-40a9-8efe-01cc5f78e812"
      },
      "source": [
        "t = TreeID3()\n",
        "t.fit(train, 6)\n",
        "\n",
        "print(\"Train\" + t.root.evaluate(train, t.root.children)) #evaluating performance on training set, obviously it will do very well\n",
        "print(\"Test\" + t.root.evaluate(test, t.root.children)) #evaluating performance on training set, obviously it will do very well\n",
        "print(\" \")\n",
        "print(\"Decision Tree Structure:\")\n",
        "t.root.children"
      ],
      "execution_count": null,
      "outputs": [
        {
          "output_type": "stream",
          "name": "stdout",
          "text": [
            "TrainAccuracy = 0.9107142857142857\n",
            "TestAccuracy = 0.7894736842105263\n",
            " \n",
            "Decision Tree Structure:\n"
          ]
        },
        {
          "output_type": "execute_result",
          "data": {
            "text/plain": [
              "{'3 <= 0.8': ['Iris-setosa',\n",
              "  {'3 <= 1.35': ['Iris-versicolor',\n",
              "    {'2 <= 4.45': ['Iris-versicolor',\n",
              "      {'1 <= 2.35': ['Iris-virginica',\n",
              "        {'0 <= 5.9': ['Iris-virginica', 'Iris-virginica']}]}]}]}]}"
            ]
          },
          "metadata": {},
          "execution_count": 12
        }
      ]
    },
    {
      "cell_type": "code",
      "metadata": {
        "colab": {
          "base_uri": "https://localhost:8080/"
        },
        "id": "E2TuEEyTK7-r",
        "outputId": "e1028ed6-6948-4527-942e-328d710abc93"
      },
      "source": [
        "t = TreeID3()\n",
        "t.fit(train, 8)\n",
        "\n",
        "print(\"Train\" + t.root.evaluate(train, t.root.children)) #evaluating performance on training set, obviously it will do very well\n",
        "print(\"Test\" + t.root.evaluate(test, t.root.children)) #evaluating performance on training set, obviously it will do very well\n",
        "print(\" \")\n",
        "print(\"Decision Tree Structure:\")\n",
        "t.root.children"
      ],
      "execution_count": null,
      "outputs": [
        {
          "output_type": "stream",
          "name": "stdout",
          "text": [
            "TrainAccuracy = 0.9553571428571429\n",
            "TestAccuracy = 0.8947368421052632\n",
            " \n",
            "Decision Tree Structure:\n"
          ]
        },
        {
          "output_type": "execute_result",
          "data": {
            "text/plain": [
              "{'3 <= 0.8': ['Iris-setosa',\n",
              "  {'3 <= 1.35': ['Iris-versicolor',\n",
              "    {'2 <= 4.45': ['Iris-versicolor',\n",
              "      {'1 <= 2.35': ['Iris-virginica',\n",
              "        {'0 <= 5.9': ['Iris-virginica',\n",
              "          {'2 <= 4.75': ['Iris-versicolor',\n",
              "            {'0 <= 6.6': ['Iris-virginica', 'Iris-virginica']}]}]}]}]}]}]}"
            ]
          },
          "metadata": {},
          "execution_count": 13
        }
      ]
    },
    {
      "cell_type": "markdown",
      "metadata": {
        "id": "ER4hWh9JLX3q"
      },
      "source": [
        "#See Classification Results\n",
        "\n",
        "A maximum depth of 4 seemed to produced the highest accuracy, lets see what it did"
      ]
    },
    {
      "cell_type": "code",
      "metadata": {
        "id": "BjCQc2MS0iBC",
        "colab": {
          "base_uri": "https://localhost:8080/"
        },
        "outputId": "dd016c6d-e6a2-4a7b-8975-ebd178911c8a"
      },
      "source": [
        "t = TreeID3()\n",
        "t.fit(train, 4)\n",
        "\n",
        "print(\"Train\" + t.root.evaluate(train, t.root.children)) #evaluating performance on training set, obviously it will do very well\n",
        "print(\"Test\" + t.root.evaluate(test, t.root.children)) #evaluating performance on training set, obviously it will do very well\n",
        "print(\" \")\n",
        "print(\"Decision Tree Structure:\")\n",
        "t.root.children"
      ],
      "execution_count": null,
      "outputs": [
        {
          "output_type": "stream",
          "name": "stdout",
          "text": [
            "TrainAccuracy = 0.9107142857142857\n",
            "TestAccuracy = 0.7894736842105263\n",
            " \n",
            "Decision Tree Structure:\n"
          ]
        },
        {
          "output_type": "execute_result",
          "data": {
            "text/plain": [
              "{'3 <= 0.8': ['Iris-setosa',\n",
              "  {'3 <= 1.35': ['Iris-versicolor',\n",
              "    {'2 <= 4.45': ['Iris-versicolor', 'Iris-virginica']}]}]}"
            ]
          },
          "metadata": {},
          "execution_count": 14
        }
      ]
    },
    {
      "cell_type": "code",
      "metadata": {
        "colab": {
          "base_uri": "https://localhost:8080/"
        },
        "id": "V4g7o7giN2lI",
        "outputId": "4ba5a6d8-9e10-4f22-dc40-46d8e272c4bf"
      },
      "source": [
        "#An example of misclassification:\"\n",
        "t.root.evaluate_with_table(test, t.root.children).iloc[20]\n"
      ],
      "execution_count": null,
      "outputs": [
        {
          "output_type": "execute_result",
          "data": {
            "text/plain": [
              "sepal_length(0)                    5.9\n",
              "sepal_width(1)                     3.2\n",
              "petal_length(2)                    4.8\n",
              "petal_width(3)                     1.8\n",
              "species                Iris-versicolor\n",
              "predicted_species    X, Iris-virginica\n",
              "Name: 20, dtype: object"
            ]
          },
          "metadata": {},
          "execution_count": 15
        }
      ]
    },
    {
      "cell_type": "code",
      "metadata": {
        "colab": {
          "base_uri": "https://localhost:8080/",
          "height": 1000
        },
        "id": "Fw1_jun0MDsz",
        "outputId": "57889367-e284-47b2-c120-4d8383cb09ea"
      },
      "source": [
        "t.root.evaluate_with_table(test, t.root.children) #see classification results, \"O\" means the prediction matches, \"X, [predicted class]\" is an incorrect classification and what the wrong classification was"
      ],
      "execution_count": null,
      "outputs": [
        {
          "output_type": "execute_result",
          "data": {
            "text/html": [
              "<div>\n",
              "<style scoped>\n",
              "    .dataframe tbody tr th:only-of-type {\n",
              "        vertical-align: middle;\n",
              "    }\n",
              "\n",
              "    .dataframe tbody tr th {\n",
              "        vertical-align: top;\n",
              "    }\n",
              "\n",
              "    .dataframe thead th {\n",
              "        text-align: right;\n",
              "    }\n",
              "</style>\n",
              "<table border=\"1\" class=\"dataframe\">\n",
              "  <thead>\n",
              "    <tr style=\"text-align: right;\">\n",
              "      <th></th>\n",
              "      <th>sepal_length(0)</th>\n",
              "      <th>sepal_width(1)</th>\n",
              "      <th>petal_length(2)</th>\n",
              "      <th>petal_width(3)</th>\n",
              "      <th>species</th>\n",
              "      <th>predicted_species</th>\n",
              "    </tr>\n",
              "  </thead>\n",
              "  <tbody>\n",
              "    <tr>\n",
              "      <th>0</th>\n",
              "      <td>5.1</td>\n",
              "      <td>3.5</td>\n",
              "      <td>1.4</td>\n",
              "      <td>0.2</td>\n",
              "      <td>Iris-setosa</td>\n",
              "      <td>O</td>\n",
              "    </tr>\n",
              "    <tr>\n",
              "      <th>1</th>\n",
              "      <td>5</td>\n",
              "      <td>3.4</td>\n",
              "      <td>1.5</td>\n",
              "      <td>0.2</td>\n",
              "      <td>Iris-setosa</td>\n",
              "      <td>O</td>\n",
              "    </tr>\n",
              "    <tr>\n",
              "      <th>2</th>\n",
              "      <td>5.7</td>\n",
              "      <td>4.4</td>\n",
              "      <td>1.5</td>\n",
              "      <td>0.4</td>\n",
              "      <td>Iris-setosa</td>\n",
              "      <td>O</td>\n",
              "    </tr>\n",
              "    <tr>\n",
              "      <th>3</th>\n",
              "      <td>4.8</td>\n",
              "      <td>3.4</td>\n",
              "      <td>1.9</td>\n",
              "      <td>0.2</td>\n",
              "      <td>Iris-setosa</td>\n",
              "      <td>O</td>\n",
              "    </tr>\n",
              "    <tr>\n",
              "      <th>4</th>\n",
              "      <td>5.4</td>\n",
              "      <td>3.4</td>\n",
              "      <td>1.5</td>\n",
              "      <td>0.4</td>\n",
              "      <td>Iris-setosa</td>\n",
              "      <td>O</td>\n",
              "    </tr>\n",
              "    <tr>\n",
              "      <th>5</th>\n",
              "      <td>5.2</td>\n",
              "      <td>4.1</td>\n",
              "      <td>1.5</td>\n",
              "      <td>0.1</td>\n",
              "      <td>Iris-setosa</td>\n",
              "      <td>O</td>\n",
              "    </tr>\n",
              "    <tr>\n",
              "      <th>6</th>\n",
              "      <td>5.1</td>\n",
              "      <td>3.4</td>\n",
              "      <td>1.5</td>\n",
              "      <td>0.2</td>\n",
              "      <td>Iris-setosa</td>\n",
              "      <td>O</td>\n",
              "    </tr>\n",
              "    <tr>\n",
              "      <th>7</th>\n",
              "      <td>5.1</td>\n",
              "      <td>3.8</td>\n",
              "      <td>1.6</td>\n",
              "      <td>0.2</td>\n",
              "      <td>Iris-setosa</td>\n",
              "      <td>O</td>\n",
              "    </tr>\n",
              "    <tr>\n",
              "      <th>8</th>\n",
              "      <td>4.6</td>\n",
              "      <td>3.2</td>\n",
              "      <td>1.4</td>\n",
              "      <td>0.2</td>\n",
              "      <td>Iris-setosa</td>\n",
              "      <td>O</td>\n",
              "    </tr>\n",
              "    <tr>\n",
              "      <th>9</th>\n",
              "      <td>7</td>\n",
              "      <td>3.2</td>\n",
              "      <td>4.7</td>\n",
              "      <td>1.4</td>\n",
              "      <td>Iris-versicolor</td>\n",
              "      <td>X, Iris-virginica</td>\n",
              "    </tr>\n",
              "    <tr>\n",
              "      <th>10</th>\n",
              "      <td>6.4</td>\n",
              "      <td>3.2</td>\n",
              "      <td>4.5</td>\n",
              "      <td>1.5</td>\n",
              "      <td>Iris-versicolor</td>\n",
              "      <td>X, Iris-virginica</td>\n",
              "    </tr>\n",
              "    <tr>\n",
              "      <th>11</th>\n",
              "      <td>6.3</td>\n",
              "      <td>3.3</td>\n",
              "      <td>4.7</td>\n",
              "      <td>1.6</td>\n",
              "      <td>Iris-versicolor</td>\n",
              "      <td>X, Iris-virginica</td>\n",
              "    </tr>\n",
              "    <tr>\n",
              "      <th>12</th>\n",
              "      <td>6.6</td>\n",
              "      <td>2.9</td>\n",
              "      <td>4.6</td>\n",
              "      <td>1.3</td>\n",
              "      <td>Iris-versicolor</td>\n",
              "      <td>O</td>\n",
              "    </tr>\n",
              "    <tr>\n",
              "      <th>13</th>\n",
              "      <td>5.2</td>\n",
              "      <td>2.7</td>\n",
              "      <td>3.9</td>\n",
              "      <td>1.4</td>\n",
              "      <td>Iris-versicolor</td>\n",
              "      <td>O</td>\n",
              "    </tr>\n",
              "    <tr>\n",
              "      <th>14</th>\n",
              "      <td>5</td>\n",
              "      <td>2</td>\n",
              "      <td>3.5</td>\n",
              "      <td>1</td>\n",
              "      <td>Iris-versicolor</td>\n",
              "      <td>O</td>\n",
              "    </tr>\n",
              "    <tr>\n",
              "      <th>15</th>\n",
              "      <td>6</td>\n",
              "      <td>2.2</td>\n",
              "      <td>4</td>\n",
              "      <td>1</td>\n",
              "      <td>Iris-versicolor</td>\n",
              "      <td>O</td>\n",
              "    </tr>\n",
              "    <tr>\n",
              "      <th>16</th>\n",
              "      <td>6.7</td>\n",
              "      <td>3.1</td>\n",
              "      <td>4.4</td>\n",
              "      <td>1.4</td>\n",
              "      <td>Iris-versicolor</td>\n",
              "      <td>O</td>\n",
              "    </tr>\n",
              "    <tr>\n",
              "      <th>17</th>\n",
              "      <td>5.6</td>\n",
              "      <td>3</td>\n",
              "      <td>4.5</td>\n",
              "      <td>1.5</td>\n",
              "      <td>Iris-versicolor</td>\n",
              "      <td>X, Iris-virginica</td>\n",
              "    </tr>\n",
              "    <tr>\n",
              "      <th>18</th>\n",
              "      <td>6.2</td>\n",
              "      <td>2.2</td>\n",
              "      <td>4.5</td>\n",
              "      <td>1.5</td>\n",
              "      <td>Iris-versicolor</td>\n",
              "      <td>X, Iris-virginica</td>\n",
              "    </tr>\n",
              "    <tr>\n",
              "      <th>19</th>\n",
              "      <td>5.6</td>\n",
              "      <td>2.5</td>\n",
              "      <td>3.9</td>\n",
              "      <td>1.1</td>\n",
              "      <td>Iris-versicolor</td>\n",
              "      <td>O</td>\n",
              "    </tr>\n",
              "    <tr>\n",
              "      <th>20</th>\n",
              "      <td>5.9</td>\n",
              "      <td>3.2</td>\n",
              "      <td>4.8</td>\n",
              "      <td>1.8</td>\n",
              "      <td>Iris-versicolor</td>\n",
              "      <td>X, Iris-virginica</td>\n",
              "    </tr>\n",
              "    <tr>\n",
              "      <th>21</th>\n",
              "      <td>6.1</td>\n",
              "      <td>2.8</td>\n",
              "      <td>4</td>\n",
              "      <td>1.3</td>\n",
              "      <td>Iris-versicolor</td>\n",
              "      <td>O</td>\n",
              "    </tr>\n",
              "    <tr>\n",
              "      <th>22</th>\n",
              "      <td>6.4</td>\n",
              "      <td>2.9</td>\n",
              "      <td>4.3</td>\n",
              "      <td>1.3</td>\n",
              "      <td>Iris-versicolor</td>\n",
              "      <td>O</td>\n",
              "    </tr>\n",
              "    <tr>\n",
              "      <th>23</th>\n",
              "      <td>5.8</td>\n",
              "      <td>2.7</td>\n",
              "      <td>3.9</td>\n",
              "      <td>1.2</td>\n",
              "      <td>Iris-versicolor</td>\n",
              "      <td>O</td>\n",
              "    </tr>\n",
              "    <tr>\n",
              "      <th>24</th>\n",
              "      <td>5.4</td>\n",
              "      <td>3</td>\n",
              "      <td>4.5</td>\n",
              "      <td>1.5</td>\n",
              "      <td>Iris-versicolor</td>\n",
              "      <td>X, Iris-virginica</td>\n",
              "    </tr>\n",
              "    <tr>\n",
              "      <th>25</th>\n",
              "      <td>6.3</td>\n",
              "      <td>2.3</td>\n",
              "      <td>4.4</td>\n",
              "      <td>1.3</td>\n",
              "      <td>Iris-versicolor</td>\n",
              "      <td>O</td>\n",
              "    </tr>\n",
              "    <tr>\n",
              "      <th>26</th>\n",
              "      <td>6.1</td>\n",
              "      <td>3</td>\n",
              "      <td>4.6</td>\n",
              "      <td>1.4</td>\n",
              "      <td>Iris-versicolor</td>\n",
              "      <td>X, Iris-virginica</td>\n",
              "    </tr>\n",
              "    <tr>\n",
              "      <th>27</th>\n",
              "      <td>6.3</td>\n",
              "      <td>2.9</td>\n",
              "      <td>5.6</td>\n",
              "      <td>1.8</td>\n",
              "      <td>Iris-virginica</td>\n",
              "      <td>O</td>\n",
              "    </tr>\n",
              "    <tr>\n",
              "      <th>28</th>\n",
              "      <td>6.5</td>\n",
              "      <td>3</td>\n",
              "      <td>5.8</td>\n",
              "      <td>2.2</td>\n",
              "      <td>Iris-virginica</td>\n",
              "      <td>O</td>\n",
              "    </tr>\n",
              "    <tr>\n",
              "      <th>29</th>\n",
              "      <td>7.2</td>\n",
              "      <td>3.6</td>\n",
              "      <td>6.1</td>\n",
              "      <td>2.5</td>\n",
              "      <td>Iris-virginica</td>\n",
              "      <td>O</td>\n",
              "    </tr>\n",
              "    <tr>\n",
              "      <th>30</th>\n",
              "      <td>6.5</td>\n",
              "      <td>3</td>\n",
              "      <td>5.5</td>\n",
              "      <td>1.8</td>\n",
              "      <td>Iris-virginica</td>\n",
              "      <td>O</td>\n",
              "    </tr>\n",
              "    <tr>\n",
              "      <th>31</th>\n",
              "      <td>7.2</td>\n",
              "      <td>3.2</td>\n",
              "      <td>6</td>\n",
              "      <td>1.8</td>\n",
              "      <td>Iris-virginica</td>\n",
              "      <td>O</td>\n",
              "    </tr>\n",
              "    <tr>\n",
              "      <th>32</th>\n",
              "      <td>6.1</td>\n",
              "      <td>3</td>\n",
              "      <td>4.9</td>\n",
              "      <td>1.8</td>\n",
              "      <td>Iris-virginica</td>\n",
              "      <td>O</td>\n",
              "    </tr>\n",
              "    <tr>\n",
              "      <th>33</th>\n",
              "      <td>7.2</td>\n",
              "      <td>3</td>\n",
              "      <td>5.8</td>\n",
              "      <td>1.6</td>\n",
              "      <td>Iris-virginica</td>\n",
              "      <td>O</td>\n",
              "    </tr>\n",
              "    <tr>\n",
              "      <th>34</th>\n",
              "      <td>6.3</td>\n",
              "      <td>3.4</td>\n",
              "      <td>5.6</td>\n",
              "      <td>2.4</td>\n",
              "      <td>Iris-virginica</td>\n",
              "      <td>O</td>\n",
              "    </tr>\n",
              "    <tr>\n",
              "      <th>35</th>\n",
              "      <td>6.4</td>\n",
              "      <td>3.1</td>\n",
              "      <td>5.5</td>\n",
              "      <td>1.8</td>\n",
              "      <td>Iris-virginica</td>\n",
              "      <td>O</td>\n",
              "    </tr>\n",
              "    <tr>\n",
              "      <th>36</th>\n",
              "      <td>6.7</td>\n",
              "      <td>3</td>\n",
              "      <td>5.2</td>\n",
              "      <td>2.3</td>\n",
              "      <td>Iris-virginica</td>\n",
              "      <td>O</td>\n",
              "    </tr>\n",
              "    <tr>\n",
              "      <th>37</th>\n",
              "      <td>5.9</td>\n",
              "      <td>3</td>\n",
              "      <td>5.1</td>\n",
              "      <td>1.8</td>\n",
              "      <td>Iris-virginica</td>\n",
              "      <td>O</td>\n",
              "    </tr>\n",
              "  </tbody>\n",
              "</table>\n",
              "</div>"
            ],
            "text/plain": [
              "   sepal_length(0) sepal_width(1)  ...          species  predicted_species\n",
              "0              5.1            3.5  ...      Iris-setosa                  O\n",
              "1                5            3.4  ...      Iris-setosa                  O\n",
              "2              5.7            4.4  ...      Iris-setosa                  O\n",
              "3              4.8            3.4  ...      Iris-setosa                  O\n",
              "4              5.4            3.4  ...      Iris-setosa                  O\n",
              "5              5.2            4.1  ...      Iris-setosa                  O\n",
              "6              5.1            3.4  ...      Iris-setosa                  O\n",
              "7              5.1            3.8  ...      Iris-setosa                  O\n",
              "8              4.6            3.2  ...      Iris-setosa                  O\n",
              "9                7            3.2  ...  Iris-versicolor  X, Iris-virginica\n",
              "10             6.4            3.2  ...  Iris-versicolor  X, Iris-virginica\n",
              "11             6.3            3.3  ...  Iris-versicolor  X, Iris-virginica\n",
              "12             6.6            2.9  ...  Iris-versicolor                  O\n",
              "13             5.2            2.7  ...  Iris-versicolor                  O\n",
              "14               5              2  ...  Iris-versicolor                  O\n",
              "15               6            2.2  ...  Iris-versicolor                  O\n",
              "16             6.7            3.1  ...  Iris-versicolor                  O\n",
              "17             5.6              3  ...  Iris-versicolor  X, Iris-virginica\n",
              "18             6.2            2.2  ...  Iris-versicolor  X, Iris-virginica\n",
              "19             5.6            2.5  ...  Iris-versicolor                  O\n",
              "20             5.9            3.2  ...  Iris-versicolor  X, Iris-virginica\n",
              "21             6.1            2.8  ...  Iris-versicolor                  O\n",
              "22             6.4            2.9  ...  Iris-versicolor                  O\n",
              "23             5.8            2.7  ...  Iris-versicolor                  O\n",
              "24             5.4              3  ...  Iris-versicolor  X, Iris-virginica\n",
              "25             6.3            2.3  ...  Iris-versicolor                  O\n",
              "26             6.1              3  ...  Iris-versicolor  X, Iris-virginica\n",
              "27             6.3            2.9  ...   Iris-virginica                  O\n",
              "28             6.5              3  ...   Iris-virginica                  O\n",
              "29             7.2            3.6  ...   Iris-virginica                  O\n",
              "30             6.5              3  ...   Iris-virginica                  O\n",
              "31             7.2            3.2  ...   Iris-virginica                  O\n",
              "32             6.1              3  ...   Iris-virginica                  O\n",
              "33             7.2              3  ...   Iris-virginica                  O\n",
              "34             6.3            3.4  ...   Iris-virginica                  O\n",
              "35             6.4            3.1  ...   Iris-virginica                  O\n",
              "36             6.7              3  ...   Iris-virginica                  O\n",
              "37             5.9              3  ...   Iris-virginica                  O\n",
              "\n",
              "[38 rows x 6 columns]"
            ]
          },
          "metadata": {},
          "execution_count": 16
        }
      ]
    },
    {
      "cell_type": "markdown",
      "metadata": {
        "id": "mkEbxfX3MTty"
      },
      "source": [
        "#Scratch Cell Outputs"
      ]
    },
    {
      "cell_type": "code",
      "metadata": {
        "id": "9RUE2w7JMTEW",
        "colab": {
          "base_uri": "https://localhost:8080/"
        },
        "outputId": "804b1334-cd07-474b-c89d-2bbcfcdad4f7"
      },
      "source": [
        "below, above = split_data(train, 3, 0.8)\n",
        "ea = compute_entropy(above)\n",
        "eb = compute_entropy(below)\n",
        "nbelow, nabove = split_data(train, 3, 1)\n",
        "nea = compute_entropy(nabove)\n",
        "neb = compute_entropy(nbelow)\n",
        "print(ea + eb ,\" vs \", nea + neb)\n",
        "print(nea)\n",
        "print(neb)"
      ],
      "execution_count": null,
      "outputs": [
        {
          "output_type": "stream",
          "name": "stdout",
          "text": [
            "0.9929768866085174  vs  1.4719897202984487\n",
            "0.9760206482366149\n",
            "0.4959690720618337\n"
          ]
        }
      ]
    },
    {
      "cell_type": "code",
      "metadata": {
        "id": "3_qScvHLMdNE",
        "colab": {
          "base_uri": "https://localhost:8080/"
        },
        "outputId": "54f10e38-2810-4592-a8c1-d6f49fef32cd"
      },
      "source": [
        "below, above = split_data(train, 3, 0.8)\n",
        "ea = compute_entropy(above)\n",
        "eb = compute_entropy(below)\n",
        "nbelow, nabove = split_data(train, 3, 0.6)\n",
        "nea = compute_entropy(nabove)\n",
        "neb = compute_entropy(nbelow)\n",
        "print(ea + eb ,\" vs \", nea + neb)\n",
        "print(nea)\n",
        "print(neb)"
      ],
      "execution_count": null,
      "outputs": [
        {
          "output_type": "stream",
          "name": "stdout",
          "text": [
            "0.9929768866085174  vs  0.9929768866085174\n",
            "0.9929768866085174\n",
            "0\n"
          ]
        }
      ]
    }
  ]
}